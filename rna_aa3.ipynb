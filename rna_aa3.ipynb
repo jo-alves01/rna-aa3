{
  "cells": [
    {
      "cell_type": "code",
      "execution_count": null,
      "id": "00d1abaf",
      "metadata": {
        "id": "00d1abaf"
      },
      "outputs": [],
      "source": []
    },
    {
      "cell_type": "code",
      "execution_count": null,
      "id": "933e1a69",
      "metadata": {
        "id": "933e1a69"
      },
      "outputs": [],
      "source": [
        "## bibliotecas\n",
        "import pandas as pd\n",
        "import numpy as np\n",
        "import matplotlib.pyplot as plt\n",
        "import sklearn\n",
        "import seaborn as sns\n",
        "import warnings\n",
        "warnings.filterwarnings('ignore')\n",
        "%matplotlib inline"
      ]
    },
    {
      "cell_type": "code",
      "execution_count": null,
      "id": "f75f1a70",
      "metadata": {
        "colab": {
          "base_uri": "https://localhost:8080/",
          "height": 206
        },
        "id": "f75f1a70",
        "outputId": "c4adfa47-e2e7-42a7-f832-7c9d25cf700d"
      },
      "outputs": [
        {
          "output_type": "execute_result",
          "data": {
            "text/plain": [
              "   Age  SystolicBP  DiastolicBP    BS  BodyTemp  HeartRate  RiskLevel\n",
              "0   25         130           80  15.0      98.0         86  high risk\n",
              "1   35         140           90  13.0      98.0         70  high risk\n",
              "2   29          90           70   8.0     100.0         80  high risk\n",
              "3   30         140           85   7.0      98.0         70  high risk\n",
              "4   35         120           60   6.1      98.0         76   low risk"
            ],
            "text/html": [
              "\n",
              "  <div id=\"df-a59f0d03-c5db-4176-b576-45efda4c8ad2\">\n",
              "    <div class=\"colab-df-container\">\n",
              "      <div>\n",
              "<style scoped>\n",
              "    .dataframe tbody tr th:only-of-type {\n",
              "        vertical-align: middle;\n",
              "    }\n",
              "\n",
              "    .dataframe tbody tr th {\n",
              "        vertical-align: top;\n",
              "    }\n",
              "\n",
              "    .dataframe thead th {\n",
              "        text-align: right;\n",
              "    }\n",
              "</style>\n",
              "<table border=\"1\" class=\"dataframe\">\n",
              "  <thead>\n",
              "    <tr style=\"text-align: right;\">\n",
              "      <th></th>\n",
              "      <th>Age</th>\n",
              "      <th>SystolicBP</th>\n",
              "      <th>DiastolicBP</th>\n",
              "      <th>BS</th>\n",
              "      <th>BodyTemp</th>\n",
              "      <th>HeartRate</th>\n",
              "      <th>RiskLevel</th>\n",
              "    </tr>\n",
              "  </thead>\n",
              "  <tbody>\n",
              "    <tr>\n",
              "      <th>0</th>\n",
              "      <td>25</td>\n",
              "      <td>130</td>\n",
              "      <td>80</td>\n",
              "      <td>15.0</td>\n",
              "      <td>98.0</td>\n",
              "      <td>86</td>\n",
              "      <td>high risk</td>\n",
              "    </tr>\n",
              "    <tr>\n",
              "      <th>1</th>\n",
              "      <td>35</td>\n",
              "      <td>140</td>\n",
              "      <td>90</td>\n",
              "      <td>13.0</td>\n",
              "      <td>98.0</td>\n",
              "      <td>70</td>\n",
              "      <td>high risk</td>\n",
              "    </tr>\n",
              "    <tr>\n",
              "      <th>2</th>\n",
              "      <td>29</td>\n",
              "      <td>90</td>\n",
              "      <td>70</td>\n",
              "      <td>8.0</td>\n",
              "      <td>100.0</td>\n",
              "      <td>80</td>\n",
              "      <td>high risk</td>\n",
              "    </tr>\n",
              "    <tr>\n",
              "      <th>3</th>\n",
              "      <td>30</td>\n",
              "      <td>140</td>\n",
              "      <td>85</td>\n",
              "      <td>7.0</td>\n",
              "      <td>98.0</td>\n",
              "      <td>70</td>\n",
              "      <td>high risk</td>\n",
              "    </tr>\n",
              "    <tr>\n",
              "      <th>4</th>\n",
              "      <td>35</td>\n",
              "      <td>120</td>\n",
              "      <td>60</td>\n",
              "      <td>6.1</td>\n",
              "      <td>98.0</td>\n",
              "      <td>76</td>\n",
              "      <td>low risk</td>\n",
              "    </tr>\n",
              "  </tbody>\n",
              "</table>\n",
              "</div>\n",
              "      <button class=\"colab-df-convert\" onclick=\"convertToInteractive('df-a59f0d03-c5db-4176-b576-45efda4c8ad2')\"\n",
              "              title=\"Convert this dataframe to an interactive table.\"\n",
              "              style=\"display:none;\">\n",
              "        \n",
              "  <svg xmlns=\"http://www.w3.org/2000/svg\" height=\"24px\"viewBox=\"0 0 24 24\"\n",
              "       width=\"24px\">\n",
              "    <path d=\"M0 0h24v24H0V0z\" fill=\"none\"/>\n",
              "    <path d=\"M18.56 5.44l.94 2.06.94-2.06 2.06-.94-2.06-.94-.94-2.06-.94 2.06-2.06.94zm-11 1L8.5 8.5l.94-2.06 2.06-.94-2.06-.94L8.5 2.5l-.94 2.06-2.06.94zm10 10l.94 2.06.94-2.06 2.06-.94-2.06-.94-.94-2.06-.94 2.06-2.06.94z\"/><path d=\"M17.41 7.96l-1.37-1.37c-.4-.4-.92-.59-1.43-.59-.52 0-1.04.2-1.43.59L10.3 9.45l-7.72 7.72c-.78.78-.78 2.05 0 2.83L4 21.41c.39.39.9.59 1.41.59.51 0 1.02-.2 1.41-.59l7.78-7.78 2.81-2.81c.8-.78.8-2.07 0-2.86zM5.41 20L4 18.59l7.72-7.72 1.47 1.35L5.41 20z\"/>\n",
              "  </svg>\n",
              "      </button>\n",
              "      \n",
              "  <style>\n",
              "    .colab-df-container {\n",
              "      display:flex;\n",
              "      flex-wrap:wrap;\n",
              "      gap: 12px;\n",
              "    }\n",
              "\n",
              "    .colab-df-convert {\n",
              "      background-color: #E8F0FE;\n",
              "      border: none;\n",
              "      border-radius: 50%;\n",
              "      cursor: pointer;\n",
              "      display: none;\n",
              "      fill: #1967D2;\n",
              "      height: 32px;\n",
              "      padding: 0 0 0 0;\n",
              "      width: 32px;\n",
              "    }\n",
              "\n",
              "    .colab-df-convert:hover {\n",
              "      background-color: #E2EBFA;\n",
              "      box-shadow: 0px 1px 2px rgba(60, 64, 67, 0.3), 0px 1px 3px 1px rgba(60, 64, 67, 0.15);\n",
              "      fill: #174EA6;\n",
              "    }\n",
              "\n",
              "    [theme=dark] .colab-df-convert {\n",
              "      background-color: #3B4455;\n",
              "      fill: #D2E3FC;\n",
              "    }\n",
              "\n",
              "    [theme=dark] .colab-df-convert:hover {\n",
              "      background-color: #434B5C;\n",
              "      box-shadow: 0px 1px 3px 1px rgba(0, 0, 0, 0.15);\n",
              "      filter: drop-shadow(0px 1px 2px rgba(0, 0, 0, 0.3));\n",
              "      fill: #FFFFFF;\n",
              "    }\n",
              "  </style>\n",
              "\n",
              "      <script>\n",
              "        const buttonEl =\n",
              "          document.querySelector('#df-a59f0d03-c5db-4176-b576-45efda4c8ad2 button.colab-df-convert');\n",
              "        buttonEl.style.display =\n",
              "          google.colab.kernel.accessAllowed ? 'block' : 'none';\n",
              "\n",
              "        async function convertToInteractive(key) {\n",
              "          const element = document.querySelector('#df-a59f0d03-c5db-4176-b576-45efda4c8ad2');\n",
              "          const dataTable =\n",
              "            await google.colab.kernel.invokeFunction('convertToInteractive',\n",
              "                                                     [key], {});\n",
              "          if (!dataTable) return;\n",
              "\n",
              "          const docLinkHtml = 'Like what you see? Visit the ' +\n",
              "            '<a target=\"_blank\" href=https://colab.research.google.com/notebooks/data_table.ipynb>data table notebook</a>'\n",
              "            + ' to learn more about interactive tables.';\n",
              "          element.innerHTML = '';\n",
              "          dataTable['output_type'] = 'display_data';\n",
              "          await google.colab.output.renderOutput(dataTable, element);\n",
              "          const docLink = document.createElement('div');\n",
              "          docLink.innerHTML = docLinkHtml;\n",
              "          element.appendChild(docLink);\n",
              "        }\n",
              "      </script>\n",
              "    </div>\n",
              "  </div>\n",
              "  "
            ]
          },
          "metadata": {},
          "execution_count": 62
        }
      ],
      "source": [
        "#leitura do dataset\n",
        "data = pd.read_csv(\"Maternal Health Risk Data Set.csv\")\n",
        "data.head()"
      ]
    },
    {
      "cell_type": "markdown",
      "source": [
        "O dataset possui 7 atribuitos no total, sendo eles:\n",
        "\n",
        "\n",
        "*   **Age**: Idade da mulher;\n",
        "*   **SystolicBP**: Valor superior da pressão arterial em mmHg;\n",
        "*   **DiastolicBP**: Valor mais baixo da pressão arterial em mmHg;\n",
        "*   **BS**: Os níveis de glicose no sangue, em termos de uma concentração molar (mmol/L);\n",
        "*   **BodyTemp**: Temperatura corporal da mulher (em °F);\n",
        "*   **HeartRate**: Uma frequência cardíaca normal em repouso em batimentos por minuto;\n",
        "*   **Risk Level**: Nível de intensidade de risco previsto durante a gravidez.\n",
        "\n"
      ],
      "metadata": {
        "id": "f83yqkyW26NT"
      },
      "id": "f83yqkyW26NT"
    },
    {
      "cell_type": "markdown",
      "source": [
        "Os tipos dos dados são: Age: inteiro, SystolicBP: inteiro, DiastolicBP: inteiro, BS: float, BodyTemp: float, HeartRate: inteiro, RiskLevel: objeto.\n",
        "\n",
        "As informações podem ser observadas abaixo:"
      ],
      "metadata": {
        "id": "-R37ouoFHsNx"
      },
      "id": "-R37ouoFHsNx"
    },
    {
      "cell_type": "code",
      "source": [
        "data.dtypes"
      ],
      "metadata": {
        "colab": {
          "base_uri": "https://localhost:8080/"
        },
        "id": "xDl6VC7qHrRZ",
        "outputId": "a10e870c-a73b-4956-d0f1-1c3098e2fa75"
      },
      "id": "xDl6VC7qHrRZ",
      "execution_count": 77,
      "outputs": [
        {
          "output_type": "execute_result",
          "data": {
            "text/plain": [
              "Age              int64\n",
              "SystolicBP       int64\n",
              "DiastolicBP      int64\n",
              "BS             float64\n",
              "BodyTemp       float64\n",
              "HeartRate        int64\n",
              "RiskLevel       object\n",
              "dtype: object"
            ]
          },
          "metadata": {},
          "execution_count": 77
        }
      ]
    },
    {
      "cell_type": "code",
      "execution_count": null,
      "id": "404b50e1",
      "metadata": {
        "colab": {
          "base_uri": "https://localhost:8080/"
        },
        "id": "404b50e1",
        "outputId": "92ca1dd5-f580-48ca-d8ba-fe39505c455d"
      },
      "outputs": [
        {
          "output_type": "stream",
          "name": "stdout",
          "text": [
            "Quantidade de exemplo: 1014\n",
            "Quantidade de atributos preditores: 6\n",
            "Atributos preditores: Age SystolicBP DiastolicBP BS BodyTemp HeartRate\n",
            "Quantidade de atributos alvo: 1\n",
            "Atributo alvo: RiskLevel\n"
          ]
        }
      ],
      "source": [
        "# verificação da quantidade de exemplos e atributos preditores\n",
        "columns = len(data.axes[1])\n",
        "rows = len(data.axes[0])\n",
        "\n",
        "print(\"Quantidade de exemplo:\",rows)\n",
        "print(\"Quantidade de atributos preditores:\",columns-1,)\n",
        "print(\"Atributos preditores:\",data.axes[1][0], data.axes[1][1], data.axes[1][2], data.axes[1][3], data.axes[1][4], data.axes[1][5])\n",
        "print(\"Quantidade de atributos alvo:\", columns-(columns-1))\n",
        "print(\"Atributo alvo:\",data.axes[1][6])"
      ]
    },
    {
      "cell_type": "markdown",
      "source": [
        "Checando se existem dados faltosos no dataset:"
      ],
      "metadata": {
        "id": "jpYsW7st5BIe"
      },
      "id": "jpYsW7st5BIe"
    },
    {
      "cell_type": "code",
      "source": [
        "data.isnull().sum()"
      ],
      "metadata": {
        "colab": {
          "base_uri": "https://localhost:8080/"
        },
        "id": "Jy5DgeBEp8V-",
        "outputId": "7358794e-905a-4124-ba2a-a84e39fc7de1"
      },
      "id": "Jy5DgeBEp8V-",
      "execution_count": null,
      "outputs": [
        {
          "output_type": "execute_result",
          "data": {
            "text/plain": [
              "Age            0\n",
              "SystolicBP     0\n",
              "DiastolicBP    0\n",
              "BS             0\n",
              "BodyTemp       0\n",
              "HeartRate      0\n",
              "RiskLevel      0\n",
              "dtype: int64"
            ]
          },
          "metadata": {},
          "execution_count": 64
        }
      ]
    },
    {
      "cell_type": "markdown",
      "source": [
        "Verificando quantos exemplos existem para cada classe do atributo alvo:"
      ],
      "metadata": {
        "id": "KRadlIL65PnC"
      },
      "id": "KRadlIL65PnC"
    },
    {
      "cell_type": "code",
      "source": [
        "data['RiskLevel'].value_counts()"
      ],
      "metadata": {
        "colab": {
          "base_uri": "https://localhost:8080/"
        },
        "id": "xp0i5CFHwQGG",
        "outputId": "19650e58-64b2-4e76-89b9-3efe0074d56b"
      },
      "id": "xp0i5CFHwQGG",
      "execution_count": null,
      "outputs": [
        {
          "output_type": "execute_result",
          "data": {
            "text/plain": [
              "low risk     406\n",
              "mid risk     336\n",
              "high risk    272\n",
              "Name: RiskLevel, dtype: int64"
            ]
          },
          "metadata": {},
          "execution_count": 69
        }
      ]
    },
    {
      "cell_type": "code",
      "execution_count": 92,
      "id": "a8448e7a",
      "metadata": {
        "id": "a8448e7a"
      },
      "outputs": [],
      "source": [
        "def plot_hist_box(data, col):\n",
        "    fig, ax = plt.subplots(1, 2, figsize=(12, 4))\n",
        "\n",
        "    sns.histplot(data=data, x=col, kde=True, ax=ax[0])\n",
        "    sns.boxplot(data=data, x=col, ax=ax[1])\n",
        "    ax[0].set_title(f\"Histograma de {col}\")\n",
        "    ax[1].set_title(f\"Boxplot de {col}\")\n",
        "\n",
        "    plt.show()"
      ]
    },
    {
      "cell_type": "markdown",
      "source": [
        "Abaixo pode-se observar alguns dados gerais sobre o dataset:"
      ],
      "metadata": {
        "id": "qx9KA19JOyNH"
      },
      "id": "qx9KA19JOyNH"
    },
    {
      "cell_type": "code",
      "source": [
        "data.describe()"
      ],
      "metadata": {
        "colab": {
          "base_uri": "https://localhost:8080/",
          "height": 300
        },
        "id": "-hJrxHBTO7DT",
        "outputId": "fd071f67-89d1-4f7a-a668-8705227b3411"
      },
      "id": "-hJrxHBTO7DT",
      "execution_count": 89,
      "outputs": [
        {
          "output_type": "execute_result",
          "data": {
            "text/plain": [
              "               Age   SystolicBP  DiastolicBP           BS     BodyTemp  \\\n",
              "count  1014.000000  1014.000000  1014.000000  1014.000000  1014.000000   \n",
              "mean     29.871795   113.198225    76.460552     8.725986    98.665089   \n",
              "std      13.474386    18.403913    13.885796     3.293532     1.371384   \n",
              "min      10.000000    70.000000    49.000000     6.000000    98.000000   \n",
              "25%      19.000000   100.000000    65.000000     6.900000    98.000000   \n",
              "50%      26.000000   120.000000    80.000000     7.500000    98.000000   \n",
              "75%      39.000000   120.000000    90.000000     8.000000    98.000000   \n",
              "max      70.000000   160.000000   100.000000    19.000000   103.000000   \n",
              "\n",
              "         HeartRate  \n",
              "count  1014.000000  \n",
              "mean     74.301775  \n",
              "std       8.088702  \n",
              "min       7.000000  \n",
              "25%      70.000000  \n",
              "50%      76.000000  \n",
              "75%      80.000000  \n",
              "max      90.000000  "
            ],
            "text/html": [
              "\n",
              "  <div id=\"df-fa7d6cab-36a6-41eb-8923-752b306aa313\">\n",
              "    <div class=\"colab-df-container\">\n",
              "      <div>\n",
              "<style scoped>\n",
              "    .dataframe tbody tr th:only-of-type {\n",
              "        vertical-align: middle;\n",
              "    }\n",
              "\n",
              "    .dataframe tbody tr th {\n",
              "        vertical-align: top;\n",
              "    }\n",
              "\n",
              "    .dataframe thead th {\n",
              "        text-align: right;\n",
              "    }\n",
              "</style>\n",
              "<table border=\"1\" class=\"dataframe\">\n",
              "  <thead>\n",
              "    <tr style=\"text-align: right;\">\n",
              "      <th></th>\n",
              "      <th>Age</th>\n",
              "      <th>SystolicBP</th>\n",
              "      <th>DiastolicBP</th>\n",
              "      <th>BS</th>\n",
              "      <th>BodyTemp</th>\n",
              "      <th>HeartRate</th>\n",
              "    </tr>\n",
              "  </thead>\n",
              "  <tbody>\n",
              "    <tr>\n",
              "      <th>count</th>\n",
              "      <td>1014.000000</td>\n",
              "      <td>1014.000000</td>\n",
              "      <td>1014.000000</td>\n",
              "      <td>1014.000000</td>\n",
              "      <td>1014.000000</td>\n",
              "      <td>1014.000000</td>\n",
              "    </tr>\n",
              "    <tr>\n",
              "      <th>mean</th>\n",
              "      <td>29.871795</td>\n",
              "      <td>113.198225</td>\n",
              "      <td>76.460552</td>\n",
              "      <td>8.725986</td>\n",
              "      <td>98.665089</td>\n",
              "      <td>74.301775</td>\n",
              "    </tr>\n",
              "    <tr>\n",
              "      <th>std</th>\n",
              "      <td>13.474386</td>\n",
              "      <td>18.403913</td>\n",
              "      <td>13.885796</td>\n",
              "      <td>3.293532</td>\n",
              "      <td>1.371384</td>\n",
              "      <td>8.088702</td>\n",
              "    </tr>\n",
              "    <tr>\n",
              "      <th>min</th>\n",
              "      <td>10.000000</td>\n",
              "      <td>70.000000</td>\n",
              "      <td>49.000000</td>\n",
              "      <td>6.000000</td>\n",
              "      <td>98.000000</td>\n",
              "      <td>7.000000</td>\n",
              "    </tr>\n",
              "    <tr>\n",
              "      <th>25%</th>\n",
              "      <td>19.000000</td>\n",
              "      <td>100.000000</td>\n",
              "      <td>65.000000</td>\n",
              "      <td>6.900000</td>\n",
              "      <td>98.000000</td>\n",
              "      <td>70.000000</td>\n",
              "    </tr>\n",
              "    <tr>\n",
              "      <th>50%</th>\n",
              "      <td>26.000000</td>\n",
              "      <td>120.000000</td>\n",
              "      <td>80.000000</td>\n",
              "      <td>7.500000</td>\n",
              "      <td>98.000000</td>\n",
              "      <td>76.000000</td>\n",
              "    </tr>\n",
              "    <tr>\n",
              "      <th>75%</th>\n",
              "      <td>39.000000</td>\n",
              "      <td>120.000000</td>\n",
              "      <td>90.000000</td>\n",
              "      <td>8.000000</td>\n",
              "      <td>98.000000</td>\n",
              "      <td>80.000000</td>\n",
              "    </tr>\n",
              "    <tr>\n",
              "      <th>max</th>\n",
              "      <td>70.000000</td>\n",
              "      <td>160.000000</td>\n",
              "      <td>100.000000</td>\n",
              "      <td>19.000000</td>\n",
              "      <td>103.000000</td>\n",
              "      <td>90.000000</td>\n",
              "    </tr>\n",
              "  </tbody>\n",
              "</table>\n",
              "</div>\n",
              "      <button class=\"colab-df-convert\" onclick=\"convertToInteractive('df-fa7d6cab-36a6-41eb-8923-752b306aa313')\"\n",
              "              title=\"Convert this dataframe to an interactive table.\"\n",
              "              style=\"display:none;\">\n",
              "        \n",
              "  <svg xmlns=\"http://www.w3.org/2000/svg\" height=\"24px\"viewBox=\"0 0 24 24\"\n",
              "       width=\"24px\">\n",
              "    <path d=\"M0 0h24v24H0V0z\" fill=\"none\"/>\n",
              "    <path d=\"M18.56 5.44l.94 2.06.94-2.06 2.06-.94-2.06-.94-.94-2.06-.94 2.06-2.06.94zm-11 1L8.5 8.5l.94-2.06 2.06-.94-2.06-.94L8.5 2.5l-.94 2.06-2.06.94zm10 10l.94 2.06.94-2.06 2.06-.94-2.06-.94-.94-2.06-.94 2.06-2.06.94z\"/><path d=\"M17.41 7.96l-1.37-1.37c-.4-.4-.92-.59-1.43-.59-.52 0-1.04.2-1.43.59L10.3 9.45l-7.72 7.72c-.78.78-.78 2.05 0 2.83L4 21.41c.39.39.9.59 1.41.59.51 0 1.02-.2 1.41-.59l7.78-7.78 2.81-2.81c.8-.78.8-2.07 0-2.86zM5.41 20L4 18.59l7.72-7.72 1.47 1.35L5.41 20z\"/>\n",
              "  </svg>\n",
              "      </button>\n",
              "      \n",
              "  <style>\n",
              "    .colab-df-container {\n",
              "      display:flex;\n",
              "      flex-wrap:wrap;\n",
              "      gap: 12px;\n",
              "    }\n",
              "\n",
              "    .colab-df-convert {\n",
              "      background-color: #E8F0FE;\n",
              "      border: none;\n",
              "      border-radius: 50%;\n",
              "      cursor: pointer;\n",
              "      display: none;\n",
              "      fill: #1967D2;\n",
              "      height: 32px;\n",
              "      padding: 0 0 0 0;\n",
              "      width: 32px;\n",
              "    }\n",
              "\n",
              "    .colab-df-convert:hover {\n",
              "      background-color: #E2EBFA;\n",
              "      box-shadow: 0px 1px 2px rgba(60, 64, 67, 0.3), 0px 1px 3px 1px rgba(60, 64, 67, 0.15);\n",
              "      fill: #174EA6;\n",
              "    }\n",
              "\n",
              "    [theme=dark] .colab-df-convert {\n",
              "      background-color: #3B4455;\n",
              "      fill: #D2E3FC;\n",
              "    }\n",
              "\n",
              "    [theme=dark] .colab-df-convert:hover {\n",
              "      background-color: #434B5C;\n",
              "      box-shadow: 0px 1px 3px 1px rgba(0, 0, 0, 0.15);\n",
              "      filter: drop-shadow(0px 1px 2px rgba(0, 0, 0, 0.3));\n",
              "      fill: #FFFFFF;\n",
              "    }\n",
              "  </style>\n",
              "\n",
              "      <script>\n",
              "        const buttonEl =\n",
              "          document.querySelector('#df-fa7d6cab-36a6-41eb-8923-752b306aa313 button.colab-df-convert');\n",
              "        buttonEl.style.display =\n",
              "          google.colab.kernel.accessAllowed ? 'block' : 'none';\n",
              "\n",
              "        async function convertToInteractive(key) {\n",
              "          const element = document.querySelector('#df-fa7d6cab-36a6-41eb-8923-752b306aa313');\n",
              "          const dataTable =\n",
              "            await google.colab.kernel.invokeFunction('convertToInteractive',\n",
              "                                                     [key], {});\n",
              "          if (!dataTable) return;\n",
              "\n",
              "          const docLinkHtml = 'Like what you see? Visit the ' +\n",
              "            '<a target=\"_blank\" href=https://colab.research.google.com/notebooks/data_table.ipynb>data table notebook</a>'\n",
              "            + ' to learn more about interactive tables.';\n",
              "          element.innerHTML = '';\n",
              "          dataTable['output_type'] = 'display_data';\n",
              "          await google.colab.output.renderOutput(dataTable, element);\n",
              "          const docLink = document.createElement('div');\n",
              "          docLink.innerHTML = docLinkHtml;\n",
              "          element.appendChild(docLink);\n",
              "        }\n",
              "      </script>\n",
              "    </div>\n",
              "  </div>\n",
              "  "
            ]
          },
          "metadata": {},
          "execution_count": 89
        }
      ]
    },
    {
      "cell_type": "code",
      "source": [
        "plot_hist_box(data, 'Age')"
      ],
      "metadata": {
        "colab": {
          "base_uri": "https://localhost:8080/",
          "height": 295
        },
        "id": "q3tGzV9O8qTr",
        "outputId": "e810dbc7-7fb4-4c86-947a-c5e78df73b31"
      },
      "id": "q3tGzV9O8qTr",
      "execution_count": 93,
      "outputs": [
        {
          "output_type": "display_data",
          "data": {
            "text/plain": [
              "<Figure size 864x288 with 2 Axes>"
            ],
            "image/png": "[encoded data removed]"
          },
          "metadata": {
            "needs_background": "light"
          }
        }
      ]
    },
    {
      "cell_type": "markdown",
      "source": [
        "É possível observar que o atributo Age possui sua mediana em torno de 26 anos e que existem muitos exemplos entre os valores de 20 até 35 anos, enquanto valores maiores e menores que esse intervalo possuem poucos exemplos."
      ],
      "metadata": {
        "id": "4RQBQQuFJt05"
      },
      "id": "4RQBQQuFJt05"
    },
    {
      "cell_type": "code",
      "source": [
        "plot_hist_box(data, 'SystolicBP')"
      ],
      "metadata": {
        "colab": {
          "base_uri": "https://localhost:8080/",
          "height": 295
        },
        "id": "Zbum48AO8utK",
        "outputId": "450e99cb-926c-4a2b-e3cb-968b93841e3f"
      },
      "id": "Zbum48AO8utK",
      "execution_count": 80,
      "outputs": [
        {
          "output_type": "display_data",
          "data": {
            "text/plain": [
              "<Figure size 864x288 with 2 Axes>"
            ],
            "image/png": "[encoded data removed]"
          },
          "metadata": {
            "needs_background": "light"
          }
        }
      ]
    },
    {
      "cell_type": "markdown",
      "source": [
        "Ao examinar os gráficos acima, pode-se afirmar que a mediana do atributo SystolicBP é em torno de 120, com uma grande quantidade de exemplos na faixa de 100 até 120, além de verificar um pequeno grupo de exemplos entre os valores de 80 até 100, e entre 130 até 140. É também visível um *outlier* no valor 160."
      ],
      "metadata": {
        "id": "cCOMIKVBKfy_"
      },
      "id": "cCOMIKVBKfy_"
    },
    {
      "cell_type": "code",
      "source": [
        "plot_hist_box(data, 'DiastolicBP')"
      ],
      "metadata": {
        "colab": {
          "base_uri": "https://localhost:8080/",
          "height": 295
        },
        "id": "2Ax7KBGT9f_e",
        "outputId": "87ad3a14-f661-4b04-c6ee-ca221e09eaee"
      },
      "id": "2Ax7KBGT9f_e",
      "execution_count": 81,
      "outputs": [
        {
          "output_type": "display_data",
          "data": {
            "text/plain": [
              "<Figure size 864x288 with 2 Axes>"
            ],
            "image/png": "[encoded data removed]"
          },
          "metadata": {
            "needs_background": "light"
          }
        }
      ]
    },
    {
      "cell_type": "markdown",
      "source": [
        "O atributo DiastolicBP possui sua mediana em 80, com exemplos relativamente bem distribuídos, principalmente na faixa entre 65 e 90."
      ],
      "metadata": {
        "id": "V7OqGEpwLhdB"
      },
      "id": "V7OqGEpwLhdB"
    },
    {
      "cell_type": "code",
      "source": [
        "plot_hist_box(data, 'BS')"
      ],
      "metadata": {
        "colab": {
          "base_uri": "https://localhost:8080/",
          "height": 295
        },
        "id": "Bpg4M0hU9ldo",
        "outputId": "5dfa3ee1-09c0-4e72-bb90-c1542ca090ed"
      },
      "id": "Bpg4M0hU9ldo",
      "execution_count": 82,
      "outputs": [
        {
          "output_type": "display_data",
          "data": {
            "text/plain": [
              "<Figure size 864x288 with 2 Axes>"
            ],
            "image/png": "[encoded data removed]"
          },
          "metadata": {
            "needs_background": "light"
          }
        }
      ]
    },
    {
      "cell_type": "markdown",
      "source": [
        "Diferente do atributo DiastolicBP, o atributo BS possui exemplos dispersos, com sua grande maioria entre os valores de 7 e 8, sua mediana é em torno de 7,5. É bastante visível os diversos *outliers* existentes neste atributo."
      ],
      "metadata": {
        "id": "gxBb_QuOMfbm"
      },
      "id": "gxBb_QuOMfbm"
    },
    {
      "cell_type": "code",
      "source": [
        "plot_hist_box(data, 'BodyTemp')"
      ],
      "metadata": {
        "colab": {
          "base_uri": "https://localhost:8080/",
          "height": 295
        },
        "id": "uULjjbbO9qeQ",
        "outputId": "112aac4e-fbd3-4367-edcd-596039d333b9"
      },
      "id": "uULjjbbO9qeQ",
      "execution_count": 83,
      "outputs": [
        {
          "output_type": "display_data",
          "data": {
            "text/plain": [
              "<Figure size 864x288 with 2 Axes>"
            ],
            "image/png": "[encoded data removed]"
          },
          "metadata": {
            "needs_background": "light"
          }
        }
      ]
    },
    {
      "cell_type": "markdown",
      "source": [
        "É notável a dispariedade dos valores dos exemplos do atributo BodyTemp, com sua mediana e a maioria dos exemplos com valor 98, e os outro valores sendo considerados quase *outliers*, apesar de estarem próximo do valor 98."
      ],
      "metadata": {
        "id": "sJiqF7NoNPNM"
      },
      "id": "sJiqF7NoNPNM"
    },
    {
      "cell_type": "code",
      "source": [
        "plot_hist_box(data, 'HeartRate')"
      ],
      "metadata": {
        "id": "zQiTjRdz9u8s",
        "outputId": "70b29395-43ee-4204-dd27-c17896c0d2d0",
        "colab": {
          "base_uri": "https://localhost:8080/",
          "height": 295
        }
      },
      "id": "zQiTjRdz9u8s",
      "execution_count": 84,
      "outputs": [
        {
          "output_type": "display_data",
          "data": {
            "text/plain": [
              "<Figure size 864x288 with 2 Axes>"
            ],
            "image/png": "[encoded data removed]"
          },
          "metadata": {
            "needs_background": "light"
          }
        }
      ]
    },
    {
      "cell_type": "markdown",
      "source": [
        "Por último, o atributo HeartRate possui a maioria dos seus exemplos entre 70 e 80, e sua mediana é de aproximadamente 75. É possível obervar a existência de um *outlier* próximo do valor 10."
      ],
      "metadata": {
        "id": "4n_6wJsgOMhV"
      },
      "id": "4n_6wJsgOMhV"
    },
    {
      "cell_type": "code",
      "source": [
        "\n"
      ],
      "metadata": {
        "id": "J1cc1oWdOFxu"
      },
      "id": "J1cc1oWdOFxu",
      "execution_count": null,
      "outputs": []
    }
  ],
  "metadata": {
    "kernelspec": {
      "display_name": "Python 3 (ipykernel)",
      "language": "python",
      "name": "python3"
    },
    "language_info": {
      "codemirror_mode": {
        "name": "ipython",
        "version": 3
      },
      "file_extension": ".py",
      "mimetype": "text/x-python",
      "name": "python",
      "nbconvert_exporter": "python",
      "pygments_lexer": "ipython3",
      "version": "3.9.13"
    },
    "colab": {
      "provenance": []
    }
  },
  "nbformat": 4,
  "nbformat_minor": 5
}